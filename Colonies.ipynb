{
 "cells": [
  {
   "cell_type": "code",
   "execution_count": 1,
   "metadata": {},
   "outputs": [],
   "source": [
    "using Images\n",
    "using Random"
   ]
  },
  {
   "cell_type": "code",
   "execution_count": 40,
   "metadata": {},
   "outputs": [
    {
     "data": {
      "text/plain": [
       "OffsetArray(::Array{Int8,2}, -7:8, -7:8) with eltype Int8 with indices -7:8×-7:8:\n",
       " 0  0  0  0  0  0  0  0  0  0  0  0  0  0  0  0\n",
       " 0  0  0  0  0  0  0  0  0  0  0  0  0  0  0  0\n",
       " 0  0  0  0  0  0  0  0  0  0  0  0  0  0  0  0\n",
       " 0  0  0  0  0  0  0  0  0  0  0  0  0  0  0  0\n",
       " 0  0  0  0  0  0  0  0  0  0  0  0  0  0  0  0\n",
       " 0  0  0  0  0  0  0  0  0  0  0  0  0  0  0  0\n",
       " 0  0  0  0  0  0  0  0  0  0  0  0  0  0  0  0\n",
       " 0  0  0  0  0  0  0  0  0  0  0  0  0  0  0  0\n",
       " 0  0  0  0  0  0  0  0  0  0  0  0  0  0  0  0\n",
       " 0  0  0  0  0  0  0  0  0  0  0  0  0  0  0  0\n",
       " 0  0  0  0  0  0  0  0  0  0  0  0  0  0  0  0\n",
       " 0  0  0  0  0  0  0  0  0  0  0  0  0  0  0  0\n",
       " 0  0  0  0  0  0  0  0  0  0  0  0  0  0  0  0\n",
       " 0  0  0  0  0  0  0  0  0  0  0  0  0  0  0  0\n",
       " 0  0  0  0  0  0  0  0  0  0  0  0  0  0  0  0\n",
       " 0  0  0  0  0  0  0  0  0  0  0  0  0  0  0  0"
      ]
     },
     "execution_count": 40,
     "metadata": {},
     "output_type": "execute_result"
    }
   ],
   "source": [
    "filter = [1 2 2 2 2 2 1; 1 2 4 4 4 2 1; 1 2 4 8 4 2 1; 1 2 4 16 4 2 1; 1 2 4 8 4 2 1; 1 2 4 8 4 2 1; 1 2 2 2 2 2 1]\n",
    "f = centered(filter ./ maximum(filter))\n",
    "imga = centered(zeros(Int8,16,16))"
   ]
  },
  {
   "cell_type": "code",
   "execution_count": 41,
   "metadata": {},
   "outputs": [
    {
     "data": {
      "text/plain": [
       "1"
      ]
     },
     "execution_count": 41,
     "metadata": {},
     "output_type": "execute_result"
    }
   ],
   "source": [
    "imga[-1,0] = 1\n",
    "imga[1,0] = 1\n",
    "imga[-1,-1] = 1\n",
    "imga[-1,1] = 1\n",
    "imga[1,-1] = 1\n",
    "imga[1,1] = 1\n",
    "imga[0,-1] = 1\n",
    "imga[0,1] = 1"
   ]
  },
  {
   "cell_type": "code",
   "execution_count": 43,
   "metadata": {},
   "outputs": [
    {
     "data": {
      "text/plain": [
       "OffsetArray(::Array{Float64,2}, -7:8, -7:8) with eltype Float64 with indices -7:8×-7:8:\n",
       " -7.88852e-16   5.0529e-16    9.33711e-16  …   8.41066e-16  -3.51708e-16\n",
       " -2.96275e-16   7.83775e-16   1.1866e-15       6.76824e-16   2.98234e-16\n",
       " -9.97891e-17   4.99036e-16   1.08324e-15      5.82096e-16   8.47984e-16\n",
       "  2.71503e-16   7.02216e-16   9.01334e-16      4.56993e-16   1.02438e-15\n",
       "  3.67805e-16   3.11728e-16   6.28161e-16      5.02288e-16   9.17305e-16\n",
       "  1.49342e-16   1.68463e-18   3.68199e-16  …   8.30322e-16   2.07372e-16\n",
       "  4.43194e-16   7.89911e-18   4.31273e-16      1.22989e-15   3.31514e-16\n",
       "  4.65887e-16  -4.29038e-16   3.17506e-16      1.56903e-15   1.50795e-16\n",
       "  1.02815e-15  -4.84475e-16   1.43404e-16      1.80411e-15   4.97833e-16\n",
       "  1.03459e-15  -5.31807e-16  -1.03108e-16      1.69493e-15   8.82247e-16\n",
       "  1.1274e-15   -4.99468e-16  -4.70464e-16  …   1.57424e-15   9.51213e-16\n",
       "  1.07792e-15   1.35962e-16  -1.49436e-16      1.16773e-15   7.49336e-16\n",
       "  8.82213e-16   5.80213e-16   3.25763e-17      6.1179e-16   -4.6962e-17 \n",
       "  6.75548e-16   6.72835e-16   5.23704e-16      1.1388e-16   -5.92992e-16\n",
       "  4.74383e-16   9.05576e-16   4.54112e-16     -3.4309e-16   -9.12182e-16\n",
       "  1.54497e-16   5.69208e-16   2.84998e-16  …  -7.03529e-16  -8.28705e-16"
      ]
     },
     "execution_count": 43,
     "metadata": {},
     "output_type": "execute_result"
    }
   ],
   "source": [
    "imgf = imfilter(imga, f) .* 16"
   ]
  },
  {
   "cell_type": "code",
   "execution_count": 45,
   "metadata": {},
   "outputs": [
    {
     "data": {
      "text/plain": [
       "40.0"
      ]
     },
     "execution_count": 45,
     "metadata": {},
     "output_type": "execute_result"
    }
   ],
   "source": [
    "imgf[0,0]"
   ]
  },
  {
   "cell_type": "code",
   "execution_count": 25,
   "metadata": {},
   "outputs": [
    {
     "data": {
      "text/plain": [
       "OffsetArray(::Array{Int8,2}, -7:8, -7:8) with eltype Int8 with indices -7:8×-7:8:\n",
       " -1   0   0   0   0   0   0   0   0   0   0   0   0   0   0  -1\n",
       " -1   0   0   0   0   0   0  -1   0   0   0   0  -1   0   0   0\n",
       " -1   0   0  -1   0  -1  -1   0  -1   0   0   0  -1   0   0   0\n",
       "  0   0   0   0   0   0   0   0   0   0   0   0  -1   0   0   0\n",
       "  0   0   0   0   0   0   1   1   1   0   0   0  -1   0   0   0\n",
       "  0   0   0   0   0   1   1   1   1   1   0   0   0   0   0   0\n",
       "  0   0   0   0   0   1   2   3   2   1   0   0   0   0   0   0\n",
       "  0  -1   0   0   0   1   2   2   2   1   0   0   0   0   0   0\n",
       "  0  -1   0   0   0   1   2   2   2   1   0   0   0   0   0   0\n",
       "  0  -1  -1   0   0   1   1   1   1   1   0   0   0   0   0   0\n",
       "  0  -1  -1   0   0   0   0   1   0   0   0   0   0   0   0   0\n",
       "  0   0  -1   0   0   0   0   0   0   0   0   0   0   0   0   0\n",
       "  0   0   0   0   0   0  -1   0   0  -1  -1  -1   0   0   0  -1\n",
       "  0   0   0   0  -1   0   0   0   0  -1   0   0   0  -1   0  -1\n",
       "  0   0   0   0   0   0   0   0   0   0   0   0   0  -1  -1  -1\n",
       "  0   0   0   0   0   0   0   0   0   0   0   0   0  -1  -1  -1"
      ]
     },
     "execution_count": 25,
     "metadata": {},
     "output_type": "execute_result"
    }
   ],
   "source": [
    "floor.(Int8,imgf)"
   ]
  },
  {
   "cell_type": "code",
   "execution_count": 17,
   "metadata": {},
   "outputs": [
    {
     "data": {
      "text/plain": [
       "relu (generic function with 1 method)"
      ]
     },
     "execution_count": 17,
     "metadata": {},
     "output_type": "execute_result"
    }
   ],
   "source": [
    "relu(x) = x < 0 ? 0 : x"
   ]
  },
  {
   "cell_type": "code",
   "execution_count": 46,
   "metadata": {},
   "outputs": [
    {
     "data": {
      "image/png": "[encoded data removed]",
      "text/plain": [
       "OffsetArray(::Array{Gray{Float64},2}, -7:8, -7:8) with eltype Gray{Float64} with indices -7:8×-7:8:\n",
       " Gray{Float64}(-3.09354e-18)  …  Gray{Float64}(-1.37925e-18)\n",
       " Gray{Float64}(-1.16186e-18)     Gray{Float64}(1.16955e-18) \n",
       " Gray{Float64}(-3.9133e-19)      Gray{Float64}(3.32543e-18) \n",
       " Gray{Float64}(1.06472e-18)      Gray{Float64}(4.01718e-18) \n",
       " Gray{Float64}(1.44237e-18)      Gray{Float64}(3.59728e-18) \n",
       " Gray{Float64}(5.85654e-19)   …  Gray{Float64}(8.13225e-19) \n",
       " Gray{Float64}(1.73801e-18)      Gray{Float64}(1.30005e-18) \n",
       " Gray{Float64}(1.82701e-18)      Gray{Float64}(5.91353e-19) \n",
       " Gray{Float64}(4.03195e-18)      Gray{Float64}(1.95229e-18) \n",
       " Gray{Float64}(4.0572e-18)       Gray{Float64}(3.45979e-18) \n",
       " Gray{Float64}(4.42118e-18)   …  Gray{Float64}(3.73025e-18) \n",
       " Gray{Float64}(4.22713e-18)      Gray{Float64}(2.93857e-18) \n",
       " Gray{Float64}(3.45966e-18)      Gray{Float64}(-1.84165e-19)\n",
       " Gray{Float64}(2.64921e-18)      Gray{Float64}(-2.32546e-18)\n",
       " Gray{Float64}(1.86032e-18)      Gray{Float64}(-3.57719e-18)\n",
       " Gray{Float64}(6.05872e-19)   …  Gray{Float64}(-3.24982e-18)"
      ]
     },
     "execution_count": 46,
     "metadata": {},
     "output_type": "execute_result"
    }
   ],
   "source": [
    "Gray.(imgf./ 255)"
   ]
  },
  {
   "cell_type": "code",
   "execution_count": null,
   "metadata": {},
   "outputs": [],
   "source": []
  }
 ],
 "metadata": {
  "kernelspec": {
   "display_name": "Julia 1.1.0",
   "language": "julia",
   "name": "julia-1.1"
  },
  "language_info": {
   "file_extension": ".jl",
   "mimetype": "application/julia",
   "name": "julia",
   "version": "1.1.0"
  }
 },
 "nbformat": 4,
 "nbformat_minor": 2
}
