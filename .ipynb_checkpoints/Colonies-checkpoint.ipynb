{
 "cells": [
  {
   "cell_type": "code",
   "execution_count": 1,
   "metadata": {},
   "outputs": [],
   "source": [
    "using Images\n",
    "using Random"
   ]
  },
  {
   "cell_type": "code",
   "execution_count": null,
   "metadata": {},
   "outputs": [],
   "source": [
    "filter = [1 2 2 2 2 2 1; 1 2 4 4 4 2 1; 1 2 4 8 4 2 1; 1 2 4 16 4 2 1; 1 2 4 8 4 2 1; 1 2 4 8 4 2 1; 1 2 2 2 2 2 1]\n",
    "imga = zeros(Int8,100,100)\n",
    "imga = centered(imga)"
   ]
  },
  {
   "cell_type": "code",
   "execution_count": 8,
   "metadata": {},
   "outputs": [
    {
     "data": {
      "text/plain": [
       "1"
      ]
     },
     "execution_count": 8,
     "metadata": {},
     "output_type": "execute_result"
    }
   ],
   "source": [
    "imga[-1,0] = 1\n",
    "imga[1,0] = 1\n",
    "imga[-1,-1] = 1\n",
    "imga[-1,1] = 1\n",
    "imga[1,-1] = 1\n",
    "imga[1,1] = 1\n",
    "imga[0,-1] = 1\n",
    "imga[0,1] = 1"
   ]
  },
  {
   "cell_type": "code",
   "execution_count": 6,
   "metadata": {},
   "outputs": [
    {
     "data": {
      "text/plain": [
       "7×7 Array{Float64,2}:\n",
       " 0.0625  0.125  0.125  0.125  0.125  0.125  0.0625\n",
       " 0.0625  0.125  0.25   0.25   0.25   0.125  0.0625\n",
       " 0.0625  0.125  0.25   0.5    0.25   0.125  0.0625\n",
       " 0.0625  0.125  0.25   1.0    0.25   0.125  0.0625\n",
       " 0.0625  0.125  0.25   0.5    0.25   0.125  0.0625\n",
       " 0.0625  0.125  0.25   0.5    0.25   0.125  0.0625\n",
       " 0.0625  0.125  0.125  0.125  0.125  0.125  0.0625"
      ]
     },
     "execution_count": 6,
     "metadata": {},
     "output_type": "execute_result"
    }
   ],
   "source": [
    "f = filter ./ maximum(filter)"
   ]
  },
  {
   "cell_type": "code",
   "execution_count": null,
   "metadata": {},
   "outputs": [],
   "source": []
  }
 ],
 "metadata": {
  "kernelspec": {
   "display_name": "Julia 1.1.0",
   "language": "julia",
   "name": "julia-1.1"
  },
  "language_info": {
   "file_extension": ".jl",
   "mimetype": "application/julia",
   "name": "julia",
   "version": "1.1.0"
  }
 },
 "nbformat": 4,
 "nbformat_minor": 2
}
